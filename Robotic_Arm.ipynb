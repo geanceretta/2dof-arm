{
  "nbformat": 4,
  "nbformat_minor": 0,
  "metadata": {
    "colab": {
      "name": "Robotic Arm.ipynb",
      "version": "0.3.2",
      "provenance": []
    },
    "kernelspec": {
      "name": "python3",
      "display_name": "Python 3"
    },
    "accelerator": "GPU"
  },
  "cells": [
    {
      "cell_type": "markdown",
      "metadata": {
        "id": "5oQ-yt4knh3T",
        "colab_type": "text"
      },
      "source": [
        "# Modeling Inverse Kinematics in a Robotic Arm\n",
        "\n",
        "\n",
        "Kinematics is the science of motion. In a two-joint robotic arm, given the angles of the joints, the kinematics equations give the location of the tip of the arm. Inverse kinematics refers to the reverse process.\n",
        "\n",
        "![](https://www.mathworks.com/help/examples/fuzzy/win64/invkine_codepad_01.png)"
      ]
    },
    {
      "cell_type": "code",
      "metadata": {
        "id": "zv1P0376oiXi",
        "colab_type": "code",
        "colab": {}
      },
      "source": [
        "import numpy as np\n",
        "from numpy.linalg import inv\n",
        "import matplotlib.pylab as plt"
      ],
      "execution_count": 0,
      "outputs": []
    },
    {
      "cell_type": "markdown",
      "metadata": {
        "id": "iFyrKn_frXwJ",
        "colab_type": "text"
      },
      "source": [
        "## Define Integration Method"
      ]
    },
    {
      "cell_type": "markdown",
      "metadata": {
        "id": "qMSQ8DRLoZo8",
        "colab_type": "text"
      },
      "source": [
        "The most widely known member of the Runge–Kutta family is generally referred to as \"RK4\", the \"classic Runge–Kutta method\" or simply as \"the Runge–Kutta method\". [<sup>1</sup>](https://codereview.stackexchange.com/questions/163499/ode45-solver-implementation-in-python)"
      ]
    },
    {
      "cell_type": "code",
      "metadata": {
        "id": "qOGngrbAqgiM",
        "colab_type": "code",
        "colab": {}
      },
      "source": [
        "def ode45_step(f, x, t, dt, *args):\n",
        "    \"\"\"\n",
        "    One step of 4th Order Runge-Kutta method\n",
        "    \"\"\"\n",
        "    k = dt\n",
        "    k1 = k * f(t, x, *args)\n",
        "    k2 = k * f(t + 0.5*k, x + 0.5*k1, *args)\n",
        "    k3 = k * f(t + 0.5*k, x + 0.5*k2, *args)\n",
        "    k4 = k * f(t + dt, x + k3, *args)\n",
        "    return x + 1/6. * (k1 + 2*k2 + 2*k3 + k4)\n",
        "\n",
        "def ode45(f, t, x0, *args):\n",
        "    \"\"\"\n",
        "    4th Order Runge-Kutta method\n",
        "    \"\"\"\n",
        "    n = len(t)\n",
        "    x = np.zeros((n, len(x0)))\n",
        "    x[0] = x0\n",
        "    for i in range(n-1):\n",
        "        dt = t[i+1] - t[i] \n",
        "        x[i+1] = ode45_step(f, x[i], t[i], dt, *args)\n",
        "    return x"
      ],
      "execution_count": 0,
      "outputs": []
    },
    {
      "cell_type": "markdown",
      "metadata": {
        "id": "g6HcN6Dq6zS_",
        "colab_type": "text"
      },
      "source": [
        "# Model"
      ]
    },
    {
      "cell_type": "code",
      "metadata": {
        "id": "sqiVc_TctSmX",
        "colab_type": "code",
        "colab": {}
      },
      "source": [
        "def robot(t,X):\n",
        "    '''\n",
        "    2 DOF Robot Model\n",
        "        q1 = theta1\n",
        "        q2 = theta2\n",
        "    '''\n",
        "    # states\n",
        "    q1  = X[0]\n",
        "    q2  = X[1]\n",
        "    dq1 = X[2] \n",
        "    dq2 = X[3]\n",
        "    # parameters\n",
        "    L1 = 1\n",
        "    L2 = 2\n",
        "    M1 = 1\n",
        "    M2 = 5\n",
        "    g = 0\n",
        "\n",
        "    # Inertial matrix\n",
        "    Bq = np.array([\n",
        "                [(M1+M2)*L1**2+M2*L2**2+2*M2*L1*L2*np.cos(q2)  ,  M2*L2**2+M2*L1*L2*np.cos(q2)],\n",
        "                [M2*L2**2+M2*L1*L2*np.cos(q2)                  , M2*L2**2]\n",
        "                    ]) \n",
        "    # C Matrix\n",
        "    Cq = np.array([\n",
        "                    [-M2*L1*L2*np.sin(q2)*(2*dq1*dq2+dq2**2)],\n",
        "                    [-M2*L1*L2*np.sin(q2)*dq1*dq2]\n",
        "                    ])\n",
        "    # Gravitation \n",
        "    Gq = np.array([\n",
        "                    [-(M1+M2)*g*L1*np.sin(q1)-M2*g*L2*np.sin(q1+q2)],\n",
        "                    [-M2*g*L2*np.sin(q1+q2)]\n",
        "                   ])\n",
        "\n",
        "    # Model\n",
        "    xdot = np.zeros(4,)\n",
        "    #dinamic\n",
        "    q2dot = inv(Bq).dot(Cq-Gq)\n",
        "\n",
        "    # states\n",
        "    xdot[0] = dq1\n",
        "    xdot[1] = dq2\n",
        "    xdot[2] = q2dot[0]\n",
        "    xdot[3] = q2dot[1]\n",
        "    \n",
        "    return xdot"
      ],
      "execution_count": 0,
      "outputs": []
    },
    {
      "cell_type": "markdown",
      "metadata": {
        "id": "tQCnAK_86QDl",
        "colab_type": "text"
      },
      "source": [
        "# Simulation"
      ]
    },
    {
      "cell_type": "code",
      "metadata": {
        "id": "ZpLV7gSOqgiU",
        "colab_type": "code",
        "colab": {}
      },
      "source": [
        "#int\n",
        "x0 = np.array([0.0, 0.0, 2.5, 2.5])\n",
        "t0 = 0; tf = 15; steps = 10000\n",
        "\n",
        "t = np.linspace(t0, tf, steps)\n",
        "X = ode45(robot, t, x0)"
      ],
      "execution_count": 0,
      "outputs": []
    },
    {
      "cell_type": "code",
      "metadata": {
        "id": "XrArM4GxoiB5",
        "colab_type": "code",
        "colab": {}
      },
      "source": [
        "# states\n",
        "q1  = X[:,0]\n",
        "q2  = X[:,1]\n",
        "dq1 = X[:,2] \n",
        "dq2 = X[:,3]\n",
        "\n",
        "x=L1*np.sin(q1)+L2*np.sin(q1+q2)\n",
        "y=L1*np.cos(q1)+L2*np.cos(q1+q2)"
      ],
      "execution_count": 0,
      "outputs": []
    },
    {
      "cell_type": "code",
      "metadata": {
        "id": "wJ2Hj-q348Zs",
        "colab_type": "code",
        "colab": {}
      },
      "source": [
        "plt.figure(figsize=(8,7))\n",
        "plt.plot(x,y)"
      ],
      "execution_count": 0,
      "outputs": []
    },
    {
      "cell_type": "code",
      "metadata": {
        "id": "jGF_oG7v5N5n",
        "colab_type": "code",
        "colab": {}
      },
      "source": [
        ""
      ],
      "execution_count": 0,
      "outputs": []
    }
  ]
}